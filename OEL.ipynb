{
  "nbformat": 4,
  "nbformat_minor": 0,
  "metadata": {
    "colab": {
      "provenance": [],
      "authorship_tag": "ABX9TyPmTsyRqkCaHI8yKJbokR2e",
      "include_colab_link": true
    },
    "kernelspec": {
      "name": "python3",
      "display_name": "Python 3"
    },
    "language_info": {
      "name": "python"
    }
  },
  "cells": [
    {
      "cell_type": "markdown",
      "metadata": {
        "id": "view-in-github",
        "colab_type": "text"
      },
      "source": [
        "<a href=\"https://colab.research.google.com/github/Rehman810/Abdul-Rehman/blob/main/OEL.ipynb\" target=\"_parent\"><img src=\"https://colab.research.google.com/assets/colab-badge.svg\" alt=\"Open In Colab\"/></a>"
      ]
    },
    {
      "cell_type": "code",
      "execution_count": 6,
      "metadata": {
        "colab": {
          "base_uri": "https://localhost:8080/"
        },
        "id": "JL_D2007OL8g",
        "outputId": "0c394469-ec6f-49fa-d1e0-d4d91ad834b8"
      },
      "outputs": [
        {
          "output_type": "stream",
          "name": "stdout",
          "text": [
            "Requirement already satisfied: Pandas in /usr/local/lib/python3.11/dist-packages (2.2.2)\n",
            "Requirement already satisfied: numpy>=1.23.2 in /usr/local/lib/python3.11/dist-packages (from Pandas) (2.0.2)\n",
            "Requirement already satisfied: python-dateutil>=2.8.2 in /usr/local/lib/python3.11/dist-packages (from Pandas) (2.8.2)\n",
            "Requirement already satisfied: pytz>=2020.1 in /usr/local/lib/python3.11/dist-packages (from Pandas) (2025.2)\n",
            "Requirement already satisfied: tzdata>=2022.7 in /usr/local/lib/python3.11/dist-packages (from Pandas) (2025.2)\n",
            "Requirement already satisfied: six>=1.5 in /usr/local/lib/python3.11/dist-packages (from python-dateutil>=2.8.2->Pandas) (1.17.0)\n",
            "Enter an age threshold: 30\n",
            "\n",
            "Number of passengers younger than 30: 11\n"
          ]
        }
      ],
      "source": [
        "!pip install Pandas\n",
        "import pandas as pd\n",
        "\n",
        "df = pd.read_csv('/content/passenger_data.csv')\n",
        "\n",
        "# Part 1 – Data Processing with Pandas\n",
        "\n",
        "print(\"Total number of passengers:\", len(df))\n",
        "\n",
        "print(\"\\nPassengers traveling to each destination:\")\n",
        "print(df['destination'].value_counts())\n",
        "\n",
        "print(\"\\nAverage ticket price by gender:\")\n",
        "print(df.groupby('gender')['ticket_price'].mean())\n",
        "\n",
        "# Part 2 – Python Filtering and Analysis\n",
        "\n",
        "def get_passengers_by_destination(dest):\n",
        "    filtered = df[df['destination'].str.lower() == dest.lower()]\n",
        "    return filtered['name'].tolist()\n",
        "\n",
        "print(get_passengers_by_destination(\"Karachi\"))\n",
        "\n",
        "def get_highest_paying_passenger():\n",
        "    max_price_idx = df['ticket_price'].idxmax()\n",
        "    highest_payer = df.loc[max_price_idx]\n",
        "    return highest_payer['name'], highest_payer['destination']\n",
        "\n",
        "print(get_highest_paying_passenger())\n",
        "\n",
        "# Part 3 – Sorting and Logic\n",
        "\n",
        "sorted_df = df.sort_values(by='ticket_price', ascending=False)\n",
        "print(sorted_df)\n",
        "\n",
        "print(\"\\nTop 3 passengers by ticket price:\")\n",
        "print(sorted_df[['name', 'age', 'ticket_price']].head(3))\n",
        "\n",
        "# Bonus Task – Custom Filtering\n",
        "\n",
        "def filter_by_age_threshold():\n",
        "    try:\n",
        "        threshold = int(input(\"Enter an age threshold: \"))\n",
        "        count = len(df[df['age'] < threshold])\n",
        "        print(f\"\\nNumber of passengers younger than {threshold}: {count}\")\n",
        "    except ValueError:\n",
        "        print(\"Please enter a valid integer.\")\n",
        "\n",
        "filter_by_age_threshold()"
      ]
    }
  ]
}